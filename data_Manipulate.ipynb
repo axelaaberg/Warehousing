{
 "cells": [
  {
   "cell_type": "code",
   "execution_count": 1,
   "id": "302f44d4",
   "metadata": {},
   "outputs": [],
   "source": [
    "import os\n",
    "import pandas as pd\n",
    "import numpy as np\n",
    "from pyspark.sql import SparkSession\n",
    "spark = SparkSession.builder.getOrCreate()"
   ]
  },
  {
   "cell_type": "code",
   "execution_count": 2,
   "id": "c706bc8d",
   "metadata": {},
   "outputs": [],
   "source": [
    "masterdata = spark.read.parquet(\"cleaned_data/Masterdata.parquet\")\n",
    "masterdata.createOrReplaceTempView(\"masterdata\")\n",
    "\n",
    "inbound_95 = spark.read.parquet(\"cleaned_data/Inbound_95%.parquet\")\n",
    "inbound_95.createOrReplaceTempView(\"inbound_95\")\n",
    "\n",
    "inbound_avg = spark.read.parquet(\"cleaned_data/Inbound_Avg.parquet\")\n",
    "inbound_avg.createOrReplaceTempView(\"inbound_avg\")\n",
    "\n",
    "inventory = spark.read.parquet(\"cleaned_data/Inventory.parquet\")\n",
    "inventory.createOrReplaceTempView(\"inventory\")\n",
    "\n",
    "picking_95 = spark.read.parquet(\"cleaned_data/Picking_95%.parquet\")\n",
    "picking_95.createOrReplaceTempView(\"picking_95\")\n",
    "\n",
    "picking_avg = spark.read.parquet(\"cleaned_data/Picking_Avg.parquet\")\n",
    "picking_avg.createOrReplaceTempView(\"picking_avg\")"
   ]
  },
  {
   "cell_type": "code",
   "execution_count": 5,
   "id": "6f66e577",
   "metadata": {},
   "outputs": [
    {
     "name": "stdout",
     "output_type": "stream",
     "text": [
      "+--------------+-------------+-----------------+-------------------+-----------+-----------+----------+-----------+\n",
      "|           SKU|Inbound_order|Quantity_Received|               Date|Weight [kg]|Length [cm]|Width [cm]|Height [cm]|\n",
      "+--------------+-------------+-----------------+-------------------+-----------+-----------+----------+-----------+\n",
      "|20001979173659|  23910068512|              1.0|2023-06-26 00:00:00|       0.17|      36.94|     25.74|       1.34|\n",
      "|20008677611256|  23079354272|            168.0|2023-06-29 00:00:00|       0.06|      18.56|      15.1|        2.5|\n",
      "|20008752513345|  23356244411|            300.0|2023-06-30 00:00:00|       0.34|      34.72|     23.33|       5.15|\n",
      "|20010383425435|  23046229012|             25.0|2023-06-30 00:00:00|       0.21|      36.91|     25.82|       1.27|\n",
      "|20018347188537|  23166053508|             10.0|2023-06-26 00:00:00|       0.84|      37.15|     22.59|      12.82|\n",
      "|20020194938240|  23860509448|              2.0|2023-06-28 00:00:00|       0.36|      33.87|     26.09|       3.29|\n",
      "|20020294971687|  23248054713|              7.0|2023-06-26 00:00:00|        0.7|      32.98|     21.71|      12.09|\n",
      "|20023280598270|  23903219170|              8.0|2023-06-30 00:00:00|       0.76|      34.06|     22.55|      12.29|\n",
      "|20023280598270|  23694335800|             12.0|2023-06-28 00:00:00|       0.76|      34.06|     22.55|      12.29|\n",
      "|20025875375130|  23228760991|            209.0|2023-06-30 00:00:00|       0.64|      27.52|     18.14|      10.77|\n",
      "+--------------+-------------+-----------------+-------------------+-----------+-----------+----------+-----------+\n",
      "only showing top 10 rows\n"
     ]
    }
   ],
   "source": [
    "inbound_95_extended = inbound_95.join(masterdata, on=\"SKU\", how=\"left\")\n",
    "inbound_95_extended.createOrReplaceTempView(\"inbound_95_extended\")\n",
    "\n",
    "inbound_avg_extended = inbound_avg.join(masterdata, on=\"SKU\", how=\"left\")\n",
    "inbound_avg_extended.createOrReplaceTempView(\"inbound_avg_extended\")\n",
    "\n",
    "inventory_extended = inventory.join(masterdata, on=\"SKU\", how=\"left\")\n",
    "inventory_extended.createOrReplaceTempView(\"inventory_extended\")\n",
    "\n",
    "picking_95_extended = picking_95.join(masterdata, on=\"SKU\", how=\"left\")\n",
    "picking_95_extended.createOrReplaceTempView(\"picking_95_extended\")\n",
    "\n",
    "picking_avg_extended = picking_avg.join(masterdata, on=\"SKU\", how=\"left\")\n",
    "picking_avg_extended.createOrReplaceTempView(\"picking_avg_extended\")\n",
    "\n",
    "inbound_95_extended.orderBy(\"SKU\").show(10)"
   ]
  },
  {
   "cell_type": "code",
   "execution_count": 48,
   "id": "a2073839",
   "metadata": {},
   "outputs": [
    {
     "name": "stdout",
     "output_type": "stream",
     "text": [
      "+-------------+\n",
      "|DISTINCT_SKUs|\n",
      "+-------------+\n",
      "|        86174|\n",
      "+-------------+\n",
      "\n"
     ]
    }
   ],
   "source": [
    "spark.sql(\"\"\"\n",
    "          SELECT COUNT(DISTINCT SKU) AS DISTINCT_SKUs FROM masterdata\n",
    "          \"\"\").show()"
   ]
  },
  {
   "cell_type": "code",
   "execution_count": 53,
   "id": "576f87bd",
   "metadata": {},
   "outputs": [],
   "source": [
    "#spark.sql(\"\"\"SELECT * FROM masterdata ORDER BY SKU\"\"\").show(6)"
   ]
  },
  {
   "cell_type": "code",
   "execution_count": 52,
   "id": "41f556fc",
   "metadata": {},
   "outputs": [
    {
     "name": "stdout",
     "output_type": "stream",
     "text": [
      "+---------------+\n",
      "|DISTINCT_MODELS|\n",
      "+---------------+\n",
      "|          70060|\n",
      "+---------------+\n",
      "\n"
     ]
    }
   ],
   "source": [
    "spark.sql(\"\"\"\n",
    "    SELECT COUNT(*) AS DISTINCT_MODELS\n",
    "    FROM(\n",
    "        SELECT SUBSTRING(SKU, 1, 6) as sku_prefix,\n",
    "            COUNT(DISTINCT SKU) as unique_skus\n",
    "        FROM masterdata \n",
    "        GROUP BY SUBSTRING(SKU, 1, 6)\n",
    "        ORDER BY sku_prefix\n",
    "    )\n",
    "\"\"\").show()"
   ]
  }
 ],
 "metadata": {
  "kernelspec": {
   "display_name": ".venv",
   "language": "python",
   "name": "python3"
  },
  "language_info": {
   "codemirror_mode": {
    "name": "ipython",
    "version": 3
   },
   "file_extension": ".py",
   "mimetype": "text/x-python",
   "name": "python",
   "nbconvert_exporter": "python",
   "pygments_lexer": "ipython3",
   "version": "3.12.3"
  }
 },
 "nbformat": 4,
 "nbformat_minor": 5
}
