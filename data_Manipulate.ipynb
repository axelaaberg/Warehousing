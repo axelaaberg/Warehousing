{
 "cells": [
  {
   "cell_type": "code",
   "execution_count": 45,
   "id": "302f44d4",
   "metadata": {},
   "outputs": [],
   "source": [
    "import os\n",
    "import pandas as pd\n",
    "import numpy as np\n",
    "from pyspark.sql import SparkSession\n",
    "spark = SparkSession.builder.getOrCreate()"
   ]
  },
  {
   "cell_type": "code",
   "execution_count": 46,
   "id": "c706bc8d",
   "metadata": {},
   "outputs": [],
   "source": [
    "masterdata = spark.read.parquet(\"cleaned_data/Masterdata.parquet\")\n",
    "masterdata.createOrReplaceTempView(\"masterdata\")\n",
    "\n",
    "inbound_95 = spark.read.parquet(\"cleaned_data/Inbound_95%.parquet\")\n",
    "inbound_95.createOrReplaceTempView(\"inbound_95\")\n",
    "\n",
    "inbound_avg = spark.read.parquet(\"cleaned_data/Inbound_Avg.parquet\")\n",
    "inbound_avg.createOrReplaceTempView(\"inbound_avg\")\n",
    "\n",
    "inventory = spark.read.parquet(\"cleaned_data/Inventory.parquet\")\n",
    "inventory.createOrReplaceTempView(\"inventory\")\n",
    "\n",
    "picking_95 = spark.read.parquet(\"cleaned_data/Picking_95%.parquet\")\n",
    "picking_95.createOrReplaceTempView(\"picking_95\")\n",
    "\n",
    "picking_avg = spark.read.parquet(\"cleaned_data/Picking_Avg.parquet\")\n",
    "picking_avg.createOrReplaceTempView(\"picking_avg\")"
   ]
  },
  {
   "cell_type": "code",
   "execution_count": 48,
   "id": "a2073839",
   "metadata": {},
   "outputs": [
    {
     "name": "stdout",
     "output_type": "stream",
     "text": [
      "+-------------+\n",
      "|DISTINCT_SKUs|\n",
      "+-------------+\n",
      "|        86174|\n",
      "+-------------+\n",
      "\n"
     ]
    }
   ],
   "source": [
    "spark.sql(\"\"\"\n",
    "          SELECT COUNT(DISTINCT SKU) AS DISTINCT_SKUs FROM masterdata\n",
    "          \"\"\").show()"
   ]
  },
  {
   "cell_type": "code",
   "execution_count": 49,
   "id": "576f87bd",
   "metadata": {},
   "outputs": [
    {
     "name": "stdout",
     "output_type": "stream",
     "text": [
      "+--------------+-----------+-----------+----------+-----------+\n",
      "|           SKU|Weight [kg]|Length [cm]|Width [cm]|Height [cm]|\n",
      "+--------------+-----------+-----------+----------+-----------+\n",
      "|20000036909601|       0.11|      38.08|     27.24|       1.24|\n",
      "|20000208077597|       0.68|      30.41|     18.94|      12.09|\n",
      "|20000348782059|       0.73|      31.32|     21.83|      12.51|\n",
      "|20000356661421|        0.7|      33.47|     22.15|      11.92|\n",
      "|20000374444855|        0.9|      33.86|      22.7|      13.18|\n",
      "|20000375115161|       0.22|      28.54|      18.0|        3.1|\n",
      "+--------------+-----------+-----------+----------+-----------+\n",
      "only showing top 6 rows\n"
     ]
    }
   ],
   "source": [
    "spark.sql(\"\"\"SELECT * FROM masterdata ORDER BY SKU\"\"\").show(6)"
   ]
  },
  {
   "cell_type": "code",
   "execution_count": 50,
   "id": "41f556fc",
   "metadata": {},
   "outputs": [
    {
     "name": "stdout",
     "output_type": "stream",
     "text": [
      "+---------------+\n",
      "|DISTINCT_MODELS|\n",
      "+---------------+\n",
      "|          70060|\n",
      "+---------------+\n",
      "\n"
     ]
    }
   ],
   "source": [
    "spark.sql(\"\"\"\n",
    "    SELECT COUNT(*) AS DISTINCT_MODELS\n",
    "    FROM(\n",
    "        SELECT SUBSTRING(SKU, 1, 6) as sku_prefix,\n",
    "            COUNT(DISTINCT SKU) as unique_skus\n",
    "        FROM masterdata \n",
    "        GROUP BY SUBSTRING(SKU, 1, 6)\n",
    "        ORDER BY sku_prefix\n",
    "    )\n",
    "\"\"\").show()"
   ]
  }
 ],
 "metadata": {
  "kernelspec": {
   "display_name": ".venv",
   "language": "python",
   "name": "python3"
  },
  "language_info": {
   "codemirror_mode": {
    "name": "ipython",
    "version": 3
   },
   "file_extension": ".py",
   "mimetype": "text/x-python",
   "name": "python",
   "nbconvert_exporter": "python",
   "pygments_lexer": "ipython3",
   "version": "3.12.3"
  }
 },
 "nbformat": 4,
 "nbformat_minor": 5
}
