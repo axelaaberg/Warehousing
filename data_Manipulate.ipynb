{
 "cells": [
  {
   "cell_type": "code",
   "execution_count": 37,
   "id": "302f44d4",
   "metadata": {},
   "outputs": [],
   "source": [
    "import os\n",
    "import pandas as pd\n",
    "import numpy as np\n",
    "from pyspark.sql import SparkSession\n",
    "from pyspark.sql import functions as F\n",
    "spark = SparkSession.builder.getOrCreate()"
   ]
  },
  {
   "cell_type": "code",
   "execution_count": 2,
   "id": "c706bc8d",
   "metadata": {},
   "outputs": [],
   "source": [
    "masterdata = spark.read.parquet(\"cleaned_data/Masterdata.parquet\")\n",
    "masterdata.createOrReplaceTempView(\"masterdata\")\n",
    "\n",
    "inbound_95 = spark.read.parquet(\"cleaned_data/Inbound_95%.parquet\")\n",
    "inbound_95.createOrReplaceTempView(\"inbound_95\")\n",
    "\n",
    "inbound_avg = spark.read.parquet(\"cleaned_data/Inbound_Avg.parquet\")\n",
    "inbound_avg.createOrReplaceTempView(\"inbound_avg\")\n",
    "\n",
    "inventory = spark.read.parquet(\"cleaned_data/Inventory.parquet\")\n",
    "inventory.createOrReplaceTempView(\"inventory\")\n",
    "\n",
    "picking_95 = spark.read.parquet(\"cleaned_data/Picking_95%.parquet\")\n",
    "picking_95.createOrReplaceTempView(\"picking_95\")\n",
    "\n",
    "picking_avg = spark.read.parquet(\"cleaned_data/Picking_Avg.parquet\")\n",
    "picking_avg.createOrReplaceTempView(\"picking_avg\")"
   ]
  },
  {
   "cell_type": "code",
   "execution_count": 41,
   "id": "6f66e577",
   "metadata": {},
   "outputs": [],
   "source": [
    "inbound_95_extended = inbound_95.join(masterdata, on=\"SKU\", how=\"left\")\n",
    "inbound_95_extended.createOrReplaceTempView(\"inbound_95_extended\")\n",
    "\n",
    "inbound_avg_extended = inbound_avg.join(masterdata, on=\"SKU\", how=\"left\")\n",
    "inbound_avg_extended.createOrReplaceTempView(\"inbound_avg_extended\")\n",
    "\n",
    "inventory_extended = inventory.join(masterdata, on=\"SKU\", how=\"left\")\n",
    "inventory_extended.createOrReplaceTempView(\"inventory_extended\")\n",
    "\n",
    "picking_95_extended = picking_95.join(masterdata, on=\"SKU\", how=\"left\")\n",
    "picking_95_extended.createOrReplaceTempView(\"picking_95_extended\")\n",
    "\n",
    "picking_avg_extended = picking_avg.join(masterdata, on=\"SKU\", how=\"left\")\n",
    "picking_avg_extended.createOrReplaceTempView(\"picking_avg_extended\")"
   ]
  },
  {
   "cell_type": "code",
   "execution_count": 56,
   "id": "ecc93f9c",
   "metadata": {},
   "outputs": [],
   "source": [
    "#inbound_95_extended.orderBy(\"SKU\").show(5)\n",
    "#inventory_extended.orderBy(\"SKU\").show(5)\n",
    "#picking_95_extended.orderBy(\"SKU\").show(5)"
   ]
  },
  {
   "cell_type": "markdown",
   "id": "7055ced7",
   "metadata": {},
   "source": [
    "#### Distinct SKUs in masterdata"
   ]
  },
  {
   "cell_type": "code",
   "execution_count": 4,
   "id": "a2073839",
   "metadata": {},
   "outputs": [
    {
     "name": "stdout",
     "output_type": "stream",
     "text": [
      "+-------------+\n",
      "|DISTINCT_SKUs|\n",
      "+-------------+\n",
      "|        86174|\n",
      "+-------------+\n",
      "\n"
     ]
    }
   ],
   "source": [
    "spark.sql(\"\"\"\n",
    "          SELECT COUNT(DISTINCT SKU) AS DISTINCT_SKUs FROM masterdata\n",
    "          \"\"\").show()"
   ]
  },
  {
   "cell_type": "markdown",
   "id": "c11ffab3",
   "metadata": {},
   "source": [
    "#### Distinct models in masterdata "
   ]
  },
  {
   "cell_type": "code",
   "execution_count": 6,
   "id": "41f556fc",
   "metadata": {},
   "outputs": [
    {
     "name": "stdout",
     "output_type": "stream",
     "text": [
      "+---------------+\n",
      "|DISTINCT_MODELS|\n",
      "+---------------+\n",
      "|          70060|\n",
      "+---------------+\n",
      "\n"
     ]
    }
   ],
   "source": [
    "spark.sql(\"\"\"\n",
    "    SELECT COUNT(*) AS DISTINCT_MODELS\n",
    "    FROM(\n",
    "        SELECT SUBSTRING(SKU, 1, 6) as sku_prefix,\n",
    "            COUNT(DISTINCT SKU) as unique_skus\n",
    "        FROM masterdata \n",
    "        GROUP BY SUBSTRING(SKU, 1, 6)\n",
    "        ORDER BY sku_prefix\n",
    "    )\n",
    "\"\"\").show()"
   ]
  },
  {
   "cell_type": "markdown",
   "id": "b4f75e24",
   "metadata": {},
   "source": [
    "#### Largest and heaviest SKUs\n"
   ]
  },
  {
   "cell_type": "code",
   "execution_count": null,
   "id": "63472e3d",
   "metadata": {},
   "outputs": [
    {
     "name": "stdout",
     "output_type": "stream",
     "text": [
      "+--------------+-----------+-----------+----------+-----------+\n",
      "|           SKU|Weight [kg]|Length [cm]|Width [cm]|Height [cm]|\n",
      "+--------------+-----------+-----------+----------+-----------+\n",
      "|23020809950195|      19.13|     211.16|     96.69|      26.51|\n",
      "|27973785565384|      17.88|     167.01|    125.08|      29.07|\n",
      "|20106786005159|       25.6|      120.0|      40.0|       22.0|\n",
      "|31422898614144|       5.31|       82.4|      44.1|       40.7|\n",
      "|29012088798937|       48.0|      192.0|     110.0|       20.0|\n",
      "|23095771954363|       52.0|      192.0|     102.0|       19.0|\n",
      "|31480447484537|       32.0|      118.0|      82.0|       25.0|\n",
      "+--------------+-----------+-----------+----------+-----------+\n",
      "\n"
     ]
    }
   ],
   "source": [
    "spark.sql(\"\"\"\n",
    "    SELECT * \n",
    "    FROM masterdata\n",
    "    WHERE `Weight [kg]` > 25 OR`Length [cm]` > 210 OR `Width [cm]` > 125 OR `Height [cm]` > 40\n",
    "    \"\"\").show()"
   ]
  },
  {
   "cell_type": "markdown",
   "id": "b169b1a9",
   "metadata": {},
   "source": [
    "#### Distinct SKUs received inbound 95% "
   ]
  },
  {
   "cell_type": "code",
   "execution_count": null,
   "id": "60076a11",
   "metadata": {},
   "outputs": [
    {
     "name": "stdout",
     "output_type": "stream",
     "text": [
      "+--------------+--------+-----------+-----------+----------+-----------+\n",
      "|           SKU|Quantity|Weight [kg]|Length [cm]|Width [cm]|Height [cm]|\n",
      "+--------------+--------+-----------+-----------+----------+-----------+\n",
      "|31114244722367|  5004.0|       0.43|      32.74|      16.8|       6.75|\n",
      "|29065735822373|  3501.0|       0.08|      21.06|      9.62|       2.75|\n",
      "|20049552466284|  3500.0|       0.49|      51.56|     26.79|       4.93|\n",
      "|33678965591584|  3017.0|       0.08|      20.88|      9.42|       2.75|\n",
      "|26271074360050|  3000.0|       0.49|      45.34|     33.34|        4.5|\n",
      "|36491028368052|  3000.0|       0.04|        7.5|       7.5|        2.6|\n",
      "|36389124819011|  2990.0|       0.05|        3.7|       3.1|        1.3|\n",
      "|23605808499016|  2799.0|       0.14|       27.4|      15.5|        3.8|\n",
      "|23037613724073|  2799.0|       0.12|       24.7|      18.9|        1.9|\n",
      "|30845798826374|  2500.0|        0.5|      48.01|     30.32|       4.59|\n",
      "|20393205388592|  2397.0|       0.19|      20.03|     16.61|       2.65|\n",
      "|29456758952879|  2238.0|       0.47|      20.31|     21.07|      14.17|\n",
      "|33509124531150|  2200.0|        0.4|      35.07|     35.08|       4.08|\n",
      "|33058120812446|  1994.0|       0.08|      21.05|      9.49|       2.75|\n",
      "|37910002456830|  1859.0|        0.2|      21.08|     17.94|       2.64|\n",
      "|26817246455800|  1826.0|       0.09|      23.56|     17.13|       2.12|\n",
      "|34802011484927|  1817.0|       0.13|      30.27|     20.45|       1.35|\n",
      "|28460714463155|  1722.0|       0.09|      21.93|     11.38|       3.09|\n",
      "|23367064906982|  1705.0|       0.14|      31.72|     20.02|       1.37|\n",
      "|35760887740759|  1701.0|       0.09|      33.35|     22.64|       2.16|\n",
      "+--------------+--------+-----------+-----------+----------+-----------+\n",
      "only showing top 20 rows\n"
     ]
    },
    {
     "data": {
      "text/plain": [
       "3832"
      ]
     },
     "execution_count": 38,
     "metadata": {},
     "output_type": "execute_result"
    }
   ],
   "source": [
    "inbound_SKUs = spark.sql(\"\"\"\n",
    "               SELECT SKU, SUM(Quantity_Received) AS Quantity, `Weight [kg]`, `Length [cm]`, `Width [cm]`, `Height [cm]`  \n",
    "               FROM inbound_95_extended\n",
    "               GROUP BY SKU, `Weight [kg]`, `Length [cm]`, `Width [cm]`, `Height [cm]`\n",
    "               ORDER BY Quantity DESC\n",
    "            \"\"\")\n",
    "\n",
    "inbound_SKUs.show()\n",
    "\n",
    "inbound_SKUs.select(\"SKU\").count()"
   ]
  },
  {
   "cell_type": "markdown",
   "id": "d41c5c91",
   "metadata": {},
   "source": [
    "#### Distinct SKUs in inventory "
   ]
  },
  {
   "cell_type": "code",
   "execution_count": 40,
   "id": "6251979a",
   "metadata": {},
   "outputs": [
    {
     "name": "stdout",
     "output_type": "stream",
     "text": [
      "+--------------+--------+-----------+-----------+----------+-----------+\n",
      "|           SKU|Quantity|Weight [kg]|Length [cm]|Width [cm]|Height [cm]|\n",
      "+--------------+--------+-----------+-----------+----------+-----------+\n",
      "|21048708235414|150500.0|       0.27|       21.4|      12.4|        5.0|\n",
      "|37497687471803|142500.0|       0.27|       21.4|      12.4|        5.0|\n",
      "|34876591231763|125460.0|       0.89|      40.65|     30.37|        9.2|\n",
      "|30043096423759|101500.0|       0.27|       21.4|      12.4|        5.0|\n",
      "|21878278423031| 71750.0|       0.27|       21.4|      12.4|        5.0|\n",
      "|24046022063753| 70500.0|       0.27|       21.4|      12.4|        5.0|\n",
      "|28429238241721| 56250.0|       0.27|       21.4|      12.4|        5.0|\n",
      "|24062839134794| 44500.0|       0.27|       21.4|      12.4|        5.0|\n",
      "|30015647287717| 35420.0|       0.23|       37.8|       8.3|        4.6|\n",
      "|37292392238772| 30654.0|       0.11|      20.19|     10.85|        4.2|\n",
      "|38045229448952| 25644.0|       0.45|      20.21|     10.95|       4.61|\n",
      "|32621674171189| 22500.0|       0.27|       21.4|      12.4|        5.0|\n",
      "|33292959191216| 18360.0|       0.43|      24.35|     14.26|       5.01|\n",
      "|31684927430462| 17602.0|       0.09|       18.9|      15.0|        3.5|\n",
      "|26734819802714| 15300.0|       0.12|       22.0|     10.99|       4.21|\n",
      "|34459821458109| 15120.0|       0.11|      19.89|      11.1|        4.2|\n",
      "|32591393483266| 14450.0|       0.11|       18.2|       7.5|        3.1|\n",
      "|28976925736794| 12258.0|        0.1|        5.0|       5.0|        5.0|\n",
      "|35010782601118| 12153.0|       0.33|      27.96|     22.73|       5.12|\n",
      "|34608096194421| 12050.0|       0.38|       15.1|      10.7|        6.3|\n",
      "+--------------+--------+-----------+-----------+----------+-----------+\n",
      "only showing top 20 rows\n"
     ]
    },
    {
     "data": {
      "text/plain": [
       "35889"
      ]
     },
     "execution_count": 40,
     "metadata": {},
     "output_type": "execute_result"
    }
   ],
   "source": [
    "inventory_SKUs = spark.sql(\"\"\"\n",
    "               SELECT SKU, SUM(Quantity_inventory) AS Quantity, `Weight [kg]`, `Length [cm]`, `Width [cm]`, `Height [cm]`  \n",
    "               FROM inventory_extended\n",
    "               GROUP BY SKU, `Weight [kg]`, `Length [cm]`, `Width [cm]`, `Height [cm]`\n",
    "               ORDER BY Quantity DESC\n",
    "            \"\"\")\n",
    "\n",
    "inventory_SKUs.show()\n",
    "\n",
    "inventory_SKUs.select(\"SKU\").count()"
   ]
  },
  {
   "cell_type": "markdown",
   "id": "8aaed5eb",
   "metadata": {},
   "source": [
    "#### Distinct SKUs sent picking 95% "
   ]
  },
  {
   "cell_type": "code",
   "execution_count": 46,
   "id": "e264c1a1",
   "metadata": {},
   "outputs": [
    {
     "name": "stdout",
     "output_type": "stream",
     "text": [
      "+--------------+--------+-----------+-----------+----------+-----------+\n",
      "|           SKU|Quantity|Weight [kg]|Length [cm]|Width [cm]|Height [cm]|\n",
      "+--------------+--------+-----------+-----------+----------+-----------+\n",
      "|20585934507425|  1129.0|       0.12|      20.12|     17.72|        8.0|\n",
      "|28464713557281|   853.0|       0.12|      20.12|     17.72|        8.0|\n",
      "|30804556669192|   422.0|       0.56|      27.81|     22.64|      17.88|\n",
      "|34186504387046|   348.0|       0.08|      14.73|     12.11|       2.39|\n",
      "|20807636044519|   341.0|       0.83|       34.0|     23.59|      12.73|\n",
      "|27396650721318|   287.0|       0.84|      34.33|      23.8|      12.75|\n",
      "|33033974220741|   262.0|       0.13|      20.42|      9.48|       5.03|\n",
      "|35407605042691|   257.0|       0.27|       38.1|      28.2|       3.78|\n",
      "|35405085410878|   252.0|       0.27|      35.22|      25.5|       3.79|\n",
      "|25868380454532|   232.0|       0.08|      13.81|     11.86|        2.4|\n",
      "|32817312799882|   224.0|        0.1|      23.23|     11.66|       4.07|\n",
      "|27450498454815|   224.0|       0.26|      36.76|     27.39|       3.79|\n",
      "|37761513518135|   211.0|       0.33|      31.36|     22.11|       5.12|\n",
      "|33723917222265|   206.0|       0.14|      19.71|     10.08|       5.03|\n",
      "|30988553695678|   204.0|       0.49|      43.92|     31.14|       4.95|\n",
      "|37092045176220|   203.0|       0.83|      34.44|     23.16|      12.71|\n",
      "|24237821561753|   193.0|       0.82|      34.78|     22.46|      12.36|\n",
      "|36258272082389|   185.0|       0.26|       32.8|     23.57|       3.79|\n",
      "|34042031578266|   183.0|       0.67|      18.76|     12.35|       4.74|\n",
      "|24205741520466|   158.0|       0.13|       21.6|      9.87|       5.03|\n",
      "+--------------+--------+-----------+-----------+----------+-----------+\n",
      "only showing top 20 rows\n"
     ]
    },
    {
     "data": {
      "text/plain": [
       "10750"
      ]
     },
     "execution_count": 46,
     "metadata": {},
     "output_type": "execute_result"
    }
   ],
   "source": [
    "picking_SKUs = spark.sql(\"\"\"\n",
    "               SELECT SKU, SUM(PIECES_PICKED) AS Quantity, `Weight [kg]`, `Length [cm]`, `Width [cm]`, `Height [cm]`  \n",
    "               FROM picking_95_extended\n",
    "               GROUP BY SKU, `Weight [kg]`, `Length [cm]`, `Width [cm]`, `Height [cm]`\n",
    "               ORDER BY Quantity DESC\n",
    "            \"\"\")\n",
    "\n",
    "picking_SKUs.show()\n",
    "\n",
    "picking_SKUs.select(\"SKU\").count()"
   ]
  },
  {
   "cell_type": "markdown",
   "id": "f6a54be4",
   "metadata": {},
   "source": [
    "#### Distinct SKUs with movement during one week and total active SKUs "
   ]
  },
  {
   "cell_type": "code",
   "execution_count": 62,
   "id": "f2957d10",
   "metadata": {},
   "outputs": [
    {
     "name": "stdout",
     "output_type": "stream",
     "text": [
      "Distinct SKUs in inbound and outbound 95%: 14196\n",
      "Distinct SKUs in inbound, outbound 95% and inventory: 44489\n"
     ]
    }
   ],
   "source": [
    "inbound_outbound_SKUs = picking_SKUs.union(inbound_SKUs)\n",
    "print(\"Distinct SKUs in inbound and outbound 95%:\", end=\" \")\n",
    "print(inbound_outbound_SKUs.select(\"SKU\").distinct().count())\n",
    "\n",
    "all_SKUs = inbound_outbound_SKUs.union(inventory_SKUs)\n",
    "print(\"Distinct SKUs in inbound, outbound 95% and inventory:\", end=\" \")\n",
    "print(all_SKUs.select(\"SKU\").distinct().count())"
   ]
  }
 ],
 "metadata": {
  "kernelspec": {
   "display_name": ".venv",
   "language": "python",
   "name": "python3"
  },
  "language_info": {
   "codemirror_mode": {
    "name": "ipython",
    "version": 3
   },
   "file_extension": ".py",
   "mimetype": "text/x-python",
   "name": "python",
   "nbconvert_exporter": "python",
   "pygments_lexer": "ipython3",
   "version": "3.12.3"
  }
 },
 "nbformat": 4,
 "nbformat_minor": 5
}
